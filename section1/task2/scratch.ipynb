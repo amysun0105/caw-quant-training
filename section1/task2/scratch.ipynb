{
 "metadata": {
  "language_info": {
   "codemirror_mode": {
    "name": "ipython",
    "version": 3
   },
   "file_extension": ".py",
   "mimetype": "text/x-python",
   "name": "python",
   "nbconvert_exporter": "python",
   "pygments_lexer": "ipython3",
   "version": "3.7.6-final"
  },
  "orig_nbformat": 2,
  "kernelspec": {
   "name": "Python 3.7.6 64-bit ('base': conda)",
   "display_name": "Python 3.7.6 64-bit ('base': conda)",
   "metadata": {
    "interpreter": {
     "hash": "55b15b2bbd541d5a160ee2b1dc2f34a8e89cf2bd8aebcd3b31f6519a45444825"
    }
   }
  }
 },
 "nbformat": 4,
 "nbformat_minor": 2,
 "cells": [
  {
   "cell_type": "code",
   "execution_count": 2,
   "metadata": {},
   "outputs": [],
   "source": [
    "from binance.client import Client\n",
    "client = Client()"
   ]
  },
  {
   "cell_type": "code",
   "execution_count": 20,
   "metadata": {},
   "outputs": [],
   "source": [
    "candle = client.get_historical_klines(\"BNBBTC\", Client.KLINE_INTERVAL_30MINUTE, \"2020-10-29T01:16:04.568Z\")"
   ]
  },
  {
   "cell_type": "code",
   "execution_count": 21,
   "metadata": {},
   "outputs": [
    {
     "output_type": "execute_result",
     "data": {
      "text/plain": [
       "   Open timestamp        Open        High         Low       Close  \\\n",
       "0   1603935000000  0.00228620  0.00228890  0.00228210  0.00228330   \n",
       "1   1603936800000  0.00228340  0.00228820  0.00228160  0.00228270   \n",
       "2   1603938600000  0.00228180  0.00228750  0.00228120  0.00228560   \n",
       "3   1603940400000  0.00228560  0.00229140  0.00228290  0.00228540   \n",
       "4   1603942200000  0.00228480  0.00228520  0.00227930  0.00227960   \n",
       "\n",
       "           Volume  Close timestamp Quote asset volume  Number of trades  \\\n",
       "0  16015.82000000    1603936799999        36.61099171               747   \n",
       "1  16448.44000000    1603938599999        37.57687791               545   \n",
       "2  17972.42000000    1603940399999        41.06165830               661   \n",
       "3  21009.64000000    1603942199999        48.04970029               763   \n",
       "4  23906.15000000    1603943999999        54.58145279               709   \n",
       "\n",
       "  Taker buy base asset volume Taker buy quote asset volume Can be ignored  \n",
       "0               7827.89000000                  17.89591300              0  \n",
       "1              10167.97000000                  23.23020608              0  \n",
       "2              13213.50000000                  30.18981297              0  \n",
       "3              15902.25000000                  36.37282757              0  \n",
       "4              19448.50000000                  44.40848120              0  "
      ],
      "text/html": "<div>\n<style scoped>\n    .dataframe tbody tr th:only-of-type {\n        vertical-align: middle;\n    }\n\n    .dataframe tbody tr th {\n        vertical-align: top;\n    }\n\n    .dataframe thead th {\n        text-align: right;\n    }\n</style>\n<table border=\"1\" class=\"dataframe\">\n  <thead>\n    <tr style=\"text-align: right;\">\n      <th></th>\n      <th>Open timestamp</th>\n      <th>Open</th>\n      <th>High</th>\n      <th>Low</th>\n      <th>Close</th>\n      <th>Volume</th>\n      <th>Close timestamp</th>\n      <th>Quote asset volume</th>\n      <th>Number of trades</th>\n      <th>Taker buy base asset volume</th>\n      <th>Taker buy quote asset volume</th>\n      <th>Can be ignored</th>\n    </tr>\n  </thead>\n  <tbody>\n    <tr>\n      <th>0</th>\n      <td>1603935000000</td>\n      <td>0.00228620</td>\n      <td>0.00228890</td>\n      <td>0.00228210</td>\n      <td>0.00228330</td>\n      <td>16015.82000000</td>\n      <td>1603936799999</td>\n      <td>36.61099171</td>\n      <td>747</td>\n      <td>7827.89000000</td>\n      <td>17.89591300</td>\n      <td>0</td>\n    </tr>\n    <tr>\n      <th>1</th>\n      <td>1603936800000</td>\n      <td>0.00228340</td>\n      <td>0.00228820</td>\n      <td>0.00228160</td>\n      <td>0.00228270</td>\n      <td>16448.44000000</td>\n      <td>1603938599999</td>\n      <td>37.57687791</td>\n      <td>545</td>\n      <td>10167.97000000</td>\n      <td>23.23020608</td>\n      <td>0</td>\n    </tr>\n    <tr>\n      <th>2</th>\n      <td>1603938600000</td>\n      <td>0.00228180</td>\n      <td>0.00228750</td>\n      <td>0.00228120</td>\n      <td>0.00228560</td>\n      <td>17972.42000000</td>\n      <td>1603940399999</td>\n      <td>41.06165830</td>\n      <td>661</td>\n      <td>13213.50000000</td>\n      <td>30.18981297</td>\n      <td>0</td>\n    </tr>\n    <tr>\n      <th>3</th>\n      <td>1603940400000</td>\n      <td>0.00228560</td>\n      <td>0.00229140</td>\n      <td>0.00228290</td>\n      <td>0.00228540</td>\n      <td>21009.64000000</td>\n      <td>1603942199999</td>\n      <td>48.04970029</td>\n      <td>763</td>\n      <td>15902.25000000</td>\n      <td>36.37282757</td>\n      <td>0</td>\n    </tr>\n    <tr>\n      <th>4</th>\n      <td>1603942200000</td>\n      <td>0.00228480</td>\n      <td>0.00228520</td>\n      <td>0.00227930</td>\n      <td>0.00227960</td>\n      <td>23906.15000000</td>\n      <td>1603943999999</td>\n      <td>54.58145279</td>\n      <td>709</td>\n      <td>19448.50000000</td>\n      <td>44.40848120</td>\n      <td>0</td>\n    </tr>\n  </tbody>\n</table>\n</div>"
     },
     "metadata": {},
     "execution_count": 21
    }
   ],
   "source": [
    "import pandas as pd\n",
    "df = pd.DataFrame(candle, columns = [\"Open timestamp\", \"Open\", \"High\", \"Low\", \"Close\", \"Volume\", \"Close timestamp\", \"Quote asset volume\", \"Number of trades\", \"Taker buy base asset volume\", \"Taker buy quote asset volume\", \"Can be ignored\"])\n",
    "df"
   ]
  },
  {
   "cell_type": "code",
   "execution_count": 16,
   "metadata": {},
   "outputs": [
    {
     "output_type": "execute_result",
     "data": {
      "text/plain": [
       "   Open timestamp        Open        High         Low       Close  \\\n",
       "0   1603935000000  0.00228620  0.00228890  0.00228210  0.00228330   \n",
       "1   1603936800000  0.00228340  0.00228820  0.00228160  0.00228270   \n",
       "2   1603938600000  0.00228180  0.00228750  0.00228120  0.00228560   \n",
       "3   1603940400000  0.00228560  0.00229020  0.00228290  0.00228960   \n",
       "\n",
       "           Volume  Close timestamp Quote asset volume  Number of trades  \\\n",
       "0  16015.82000000    1603936799999        36.61099171               747   \n",
       "1  16448.44000000    1603938599999        37.57687791               545   \n",
       "2  17972.42000000    1603940399999        41.06165830               661   \n",
       "3  12732.98000000    1603942199999        29.09978255               528   \n",
       "\n",
       "  Taker buy base asset volume Taker buy quote asset volume Can be ignored  \\\n",
       "0               7827.89000000                  17.89591300              0   \n",
       "1              10167.97000000                  23.23020608              0   \n",
       "2              13213.50000000                  30.18981297              0   \n",
       "3               9157.31000000                  20.92721633              0   \n",
       "\n",
       "            Open time              Close time  \n",
       "0 2020-10-29 01:30:00 2020-10-29 01:59:59.999  \n",
       "1 2020-10-29 02:00:00 2020-10-29 02:29:59.999  \n",
       "2 2020-10-29 02:30:00 2020-10-29 02:59:59.999  \n",
       "3 2020-10-29 03:00:00 2020-10-29 03:29:59.999  "
      ],
      "text/html": "<div>\n<style scoped>\n    .dataframe tbody tr th:only-of-type {\n        vertical-align: middle;\n    }\n\n    .dataframe tbody tr th {\n        vertical-align: top;\n    }\n\n    .dataframe thead th {\n        text-align: right;\n    }\n</style>\n<table border=\"1\" class=\"dataframe\">\n  <thead>\n    <tr style=\"text-align: right;\">\n      <th></th>\n      <th>Open timestamp</th>\n      <th>Open</th>\n      <th>High</th>\n      <th>Low</th>\n      <th>Close</th>\n      <th>Volume</th>\n      <th>Close timestamp</th>\n      <th>Quote asset volume</th>\n      <th>Number of trades</th>\n      <th>Taker buy base asset volume</th>\n      <th>Taker buy quote asset volume</th>\n      <th>Can be ignored</th>\n      <th>Open time</th>\n      <th>Close time</th>\n    </tr>\n  </thead>\n  <tbody>\n    <tr>\n      <th>0</th>\n      <td>1603935000000</td>\n      <td>0.00228620</td>\n      <td>0.00228890</td>\n      <td>0.00228210</td>\n      <td>0.00228330</td>\n      <td>16015.82000000</td>\n      <td>1603936799999</td>\n      <td>36.61099171</td>\n      <td>747</td>\n      <td>7827.89000000</td>\n      <td>17.89591300</td>\n      <td>0</td>\n      <td>2020-10-29 01:30:00</td>\n      <td>2020-10-29 01:59:59.999</td>\n    </tr>\n    <tr>\n      <th>1</th>\n      <td>1603936800000</td>\n      <td>0.00228340</td>\n      <td>0.00228820</td>\n      <td>0.00228160</td>\n      <td>0.00228270</td>\n      <td>16448.44000000</td>\n      <td>1603938599999</td>\n      <td>37.57687791</td>\n      <td>545</td>\n      <td>10167.97000000</td>\n      <td>23.23020608</td>\n      <td>0</td>\n      <td>2020-10-29 02:00:00</td>\n      <td>2020-10-29 02:29:59.999</td>\n    </tr>\n    <tr>\n      <th>2</th>\n      <td>1603938600000</td>\n      <td>0.00228180</td>\n      <td>0.00228750</td>\n      <td>0.00228120</td>\n      <td>0.00228560</td>\n      <td>17972.42000000</td>\n      <td>1603940399999</td>\n      <td>41.06165830</td>\n      <td>661</td>\n      <td>13213.50000000</td>\n      <td>30.18981297</td>\n      <td>0</td>\n      <td>2020-10-29 02:30:00</td>\n      <td>2020-10-29 02:59:59.999</td>\n    </tr>\n    <tr>\n      <th>3</th>\n      <td>1603940400000</td>\n      <td>0.00228560</td>\n      <td>0.00229020</td>\n      <td>0.00228290</td>\n      <td>0.00228960</td>\n      <td>12732.98000000</td>\n      <td>1603942199999</td>\n      <td>29.09978255</td>\n      <td>528</td>\n      <td>9157.31000000</td>\n      <td>20.92721633</td>\n      <td>0</td>\n      <td>2020-10-29 03:00:00</td>\n      <td>2020-10-29 03:29:59.999</td>\n    </tr>\n  </tbody>\n</table>\n</div>"
     },
     "metadata": {},
     "execution_count": 16
    }
   ],
   "source": [
    " df['Open time'] = pd.to_datetime(df['Open timestamp'],unit='ms')\n",
    " df['Close time'] = pd.to_datetime(df['Close timestamp'],unit='ms')\n",
    " df"
   ]
  },
  {
   "cell_type": "code",
   "execution_count": 18,
   "metadata": {},
   "outputs": [
    {
     "output_type": "execute_result",
     "data": {
      "text/plain": [
       "            Open time        Open        High         Low       Close  \\\n",
       "0 2020-10-29 01:30:00  0.00228620  0.00228890  0.00228210  0.00228330   \n",
       "1 2020-10-29 02:00:00  0.00228340  0.00228820  0.00228160  0.00228270   \n",
       "2 2020-10-29 02:30:00  0.00228180  0.00228750  0.00228120  0.00228560   \n",
       "3 2020-10-29 03:00:00  0.00228560  0.00229020  0.00228290  0.00228960   \n",
       "\n",
       "           Volume              Close time  \n",
       "0  16015.82000000 2020-10-29 01:59:59.999  \n",
       "1  16448.44000000 2020-10-29 02:29:59.999  \n",
       "2  17972.42000000 2020-10-29 02:59:59.999  \n",
       "3  12732.98000000 2020-10-29 03:29:59.999  "
      ],
      "text/html": "<div>\n<style scoped>\n    .dataframe tbody tr th:only-of-type {\n        vertical-align: middle;\n    }\n\n    .dataframe tbody tr th {\n        vertical-align: top;\n    }\n\n    .dataframe thead th {\n        text-align: right;\n    }\n</style>\n<table border=\"1\" class=\"dataframe\">\n  <thead>\n    <tr style=\"text-align: right;\">\n      <th></th>\n      <th>Open time</th>\n      <th>Open</th>\n      <th>High</th>\n      <th>Low</th>\n      <th>Close</th>\n      <th>Volume</th>\n      <th>Close time</th>\n    </tr>\n  </thead>\n  <tbody>\n    <tr>\n      <th>0</th>\n      <td>2020-10-29 01:30:00</td>\n      <td>0.00228620</td>\n      <td>0.00228890</td>\n      <td>0.00228210</td>\n      <td>0.00228330</td>\n      <td>16015.82000000</td>\n      <td>2020-10-29 01:59:59.999</td>\n    </tr>\n    <tr>\n      <th>1</th>\n      <td>2020-10-29 02:00:00</td>\n      <td>0.00228340</td>\n      <td>0.00228820</td>\n      <td>0.00228160</td>\n      <td>0.00228270</td>\n      <td>16448.44000000</td>\n      <td>2020-10-29 02:29:59.999</td>\n    </tr>\n    <tr>\n      <th>2</th>\n      <td>2020-10-29 02:30:00</td>\n      <td>0.00228180</td>\n      <td>0.00228750</td>\n      <td>0.00228120</td>\n      <td>0.00228560</td>\n      <td>17972.42000000</td>\n      <td>2020-10-29 02:59:59.999</td>\n    </tr>\n    <tr>\n      <th>3</th>\n      <td>2020-10-29 03:00:00</td>\n      <td>0.00228560</td>\n      <td>0.00229020</td>\n      <td>0.00228290</td>\n      <td>0.00228960</td>\n      <td>12732.98000000</td>\n      <td>2020-10-29 03:29:59.999</td>\n    </tr>\n  </tbody>\n</table>\n</div>"
     },
     "metadata": {},
     "execution_count": 18
    }
   ],
   "source": [
    "df = df[['Open time', 'Open','High','Low','Close','Volume','Close time']]\n",
    "df"
   ]
  },
  {
   "cell_type": "code",
   "execution_count": 19,
   "metadata": {},
   "outputs": [],
   "source": [
    "df.to_csv('./candledata.csv', index=False)"
   ]
  },
  {
   "cell_type": "code",
   "execution_count": 28,
   "metadata": {},
   "outputs": [
    {
     "output_type": "execute_result",
     "data": {
      "text/plain": [
       "[{'id': 92864632,\n",
       "  'price': '0.00228670',\n",
       "  'qty': '0.52000000',\n",
       "  'quoteQty': '0.00118908',\n",
       "  'time': 1603944422956,\n",
       "  'isBuyerMaker': False,\n",
       "  'isBestMatch': True},\n",
       " {'id': 92864633,\n",
       "  'price': '0.00228680',\n",
       "  'qty': '4.93000000',\n",
       "  'quoteQty': '0.01127392',\n",
       "  'time': 1603944430670,\n",
       "  'isBuyerMaker': False,\n",
       "  'isBestMatch': True},\n",
       " {'id': 92864634,\n",
       "  'price': '0.00228670',\n",
       "  'qty': '0.40000000',\n",
       "  'quoteQty': '0.00091468',\n",
       "  'time': 1603944432378,\n",
       "  'isBuyerMaker': False,\n",
       "  'isBestMatch': True},\n",
       " {'id': 92864635,\n",
       "  'price': '0.00228660',\n",
       "  'qty': '27.39000000',\n",
       "  'quoteQty': '0.06262997',\n",
       "  'time': 1603944434878,\n",
       "  'isBuyerMaker': False,\n",
       "  'isBestMatch': True},\n",
       " {'id': 92864636,\n",
       "  'price': '0.00228650',\n",
       "  'qty': '33.49000000',\n",
       "  'quoteQty': '0.07657488',\n",
       "  'time': 1603944449636,\n",
       "  'isBuyerMaker': True,\n",
       "  'isBestMatch': True}]"
      ]
     },
     "metadata": {},
     "execution_count": 28
    }
   ],
   "source": [
    "transactions = client.get_recent_trades(symbol=\"BNBBTC\", limit=5)\n",
    "transactions"
   ]
  },
  {
   "cell_type": "code",
   "execution_count": 41,
   "metadata": {},
   "outputs": [
    {
     "output_type": "execute_result",
     "data": {
      "text/plain": [
       "         id       price          qty    quoteQty           time  isBuyerMaker  \\\n",
       "0  92864632  0.00228670   0.52000000  0.00118908  1603944422956         False   \n",
       "1  92864633  0.00228680   4.93000000  0.01127392  1603944430670         False   \n",
       "2  92864634  0.00228670   0.40000000  0.00091468  1603944432378         False   \n",
       "3  92864635  0.00228660  27.39000000  0.06262997  1603944434878         False   \n",
       "4  92864636  0.00228650  33.49000000  0.07657488  1603944449636          True   \n",
       "\n",
       "   isBestMatch  \n",
       "0         True  \n",
       "1         True  \n",
       "2         True  \n",
       "3         True  \n",
       "4         True  "
      ],
      "text/html": "<div>\n<style scoped>\n    .dataframe tbody tr th:only-of-type {\n        vertical-align: middle;\n    }\n\n    .dataframe tbody tr th {\n        vertical-align: top;\n    }\n\n    .dataframe thead th {\n        text-align: right;\n    }\n</style>\n<table border=\"1\" class=\"dataframe\">\n  <thead>\n    <tr style=\"text-align: right;\">\n      <th></th>\n      <th>id</th>\n      <th>price</th>\n      <th>qty</th>\n      <th>quoteQty</th>\n      <th>time</th>\n      <th>isBuyerMaker</th>\n      <th>isBestMatch</th>\n    </tr>\n  </thead>\n  <tbody>\n    <tr>\n      <th>0</th>\n      <td>92864632</td>\n      <td>0.00228670</td>\n      <td>0.52000000</td>\n      <td>0.00118908</td>\n      <td>1603944422956</td>\n      <td>False</td>\n      <td>True</td>\n    </tr>\n    <tr>\n      <th>1</th>\n      <td>92864633</td>\n      <td>0.00228680</td>\n      <td>4.93000000</td>\n      <td>0.01127392</td>\n      <td>1603944430670</td>\n      <td>False</td>\n      <td>True</td>\n    </tr>\n    <tr>\n      <th>2</th>\n      <td>92864634</td>\n      <td>0.00228670</td>\n      <td>0.40000000</td>\n      <td>0.00091468</td>\n      <td>1603944432378</td>\n      <td>False</td>\n      <td>True</td>\n    </tr>\n    <tr>\n      <th>3</th>\n      <td>92864635</td>\n      <td>0.00228660</td>\n      <td>27.39000000</td>\n      <td>0.06262997</td>\n      <td>1603944434878</td>\n      <td>False</td>\n      <td>True</td>\n    </tr>\n    <tr>\n      <th>4</th>\n      <td>92864636</td>\n      <td>0.00228650</td>\n      <td>33.49000000</td>\n      <td>0.07657488</td>\n      <td>1603944449636</td>\n      <td>True</td>\n      <td>True</td>\n    </tr>\n  </tbody>\n</table>\n</div>"
     },
     "metadata": {},
     "execution_count": 41
    }
   ],
   "source": [
    "df2 = pd.DataFrame(transactions)\n",
    "df2"
   ]
  },
  {
   "cell_type": "code",
   "execution_count": 42,
   "metadata": {},
   "outputs": [
    {
     "output_type": "execute_result",
     "data": {
      "text/plain": [
       "         id       price          qty    quoteQty           time  isBuyerMaker  \\\n",
       "0  92864632  0.00228670   0.52000000  0.00118908  1603944422956         False   \n",
       "1  92864633  0.00228680   4.93000000  0.01127392  1603944430670         False   \n",
       "2  92864634  0.00228670   0.40000000  0.00091468  1603944432378         False   \n",
       "3  92864635  0.00228660  27.39000000  0.06262997  1603944434878         False   \n",
       "4  92864636  0.00228650  33.49000000  0.07657488  1603944449636          True   \n",
       "\n",
       "   isBestMatch                Datetime  \n",
       "0         True 2020-10-29 04:07:02.956  \n",
       "1         True 2020-10-29 04:07:10.670  \n",
       "2         True 2020-10-29 04:07:12.378  \n",
       "3         True 2020-10-29 04:07:14.878  \n",
       "4         True 2020-10-29 04:07:29.636  "
      ],
      "text/html": "<div>\n<style scoped>\n    .dataframe tbody tr th:only-of-type {\n        vertical-align: middle;\n    }\n\n    .dataframe tbody tr th {\n        vertical-align: top;\n    }\n\n    .dataframe thead th {\n        text-align: right;\n    }\n</style>\n<table border=\"1\" class=\"dataframe\">\n  <thead>\n    <tr style=\"text-align: right;\">\n      <th></th>\n      <th>id</th>\n      <th>price</th>\n      <th>qty</th>\n      <th>quoteQty</th>\n      <th>time</th>\n      <th>isBuyerMaker</th>\n      <th>isBestMatch</th>\n      <th>Datetime</th>\n    </tr>\n  </thead>\n  <tbody>\n    <tr>\n      <th>0</th>\n      <td>92864632</td>\n      <td>0.00228670</td>\n      <td>0.52000000</td>\n      <td>0.00118908</td>\n      <td>1603944422956</td>\n      <td>False</td>\n      <td>True</td>\n      <td>2020-10-29 04:07:02.956</td>\n    </tr>\n    <tr>\n      <th>1</th>\n      <td>92864633</td>\n      <td>0.00228680</td>\n      <td>4.93000000</td>\n      <td>0.01127392</td>\n      <td>1603944430670</td>\n      <td>False</td>\n      <td>True</td>\n      <td>2020-10-29 04:07:10.670</td>\n    </tr>\n    <tr>\n      <th>2</th>\n      <td>92864634</td>\n      <td>0.00228670</td>\n      <td>0.40000000</td>\n      <td>0.00091468</td>\n      <td>1603944432378</td>\n      <td>False</td>\n      <td>True</td>\n      <td>2020-10-29 04:07:12.378</td>\n    </tr>\n    <tr>\n      <th>3</th>\n      <td>92864635</td>\n      <td>0.00228660</td>\n      <td>27.39000000</td>\n      <td>0.06262997</td>\n      <td>1603944434878</td>\n      <td>False</td>\n      <td>True</td>\n      <td>2020-10-29 04:07:14.878</td>\n    </tr>\n    <tr>\n      <th>4</th>\n      <td>92864636</td>\n      <td>0.00228650</td>\n      <td>33.49000000</td>\n      <td>0.07657488</td>\n      <td>1603944449636</td>\n      <td>True</td>\n      <td>True</td>\n      <td>2020-10-29 04:07:29.636</td>\n    </tr>\n  </tbody>\n</table>\n</div>"
     },
     "metadata": {},
     "execution_count": 42
    }
   ],
   "source": [
    " df2['Datetime'] = pd.to_datetime(df2['time'],unit='ms')\n",
    " df2"
   ]
  },
  {
   "cell_type": "code",
   "execution_count": 43,
   "metadata": {},
   "outputs": [
    {
     "output_type": "execute_result",
     "data": {
      "text/plain": [
       "         ID       Price     Quantity QuoteQuantity           Time  \\\n",
       "0  92864632  0.00228670   0.52000000    0.00118908  1603944422956   \n",
       "1  92864633  0.00228680   4.93000000    0.01127392  1603944430670   \n",
       "2  92864634  0.00228670   0.40000000    0.00091468  1603944432378   \n",
       "3  92864635  0.00228660  27.39000000    0.06262997  1603944434878   \n",
       "4  92864636  0.00228650  33.49000000    0.07657488  1603944449636   \n",
       "\n",
       "   Buyer maker  Best match                Datetime  \n",
       "0        False        True 2020-10-29 04:07:02.956  \n",
       "1        False        True 2020-10-29 04:07:10.670  \n",
       "2        False        True 2020-10-29 04:07:12.378  \n",
       "3        False        True 2020-10-29 04:07:14.878  \n",
       "4         True        True 2020-10-29 04:07:29.636  "
      ],
      "text/html": "<div>\n<style scoped>\n    .dataframe tbody tr th:only-of-type {\n        vertical-align: middle;\n    }\n\n    .dataframe tbody tr th {\n        vertical-align: top;\n    }\n\n    .dataframe thead th {\n        text-align: right;\n    }\n</style>\n<table border=\"1\" class=\"dataframe\">\n  <thead>\n    <tr style=\"text-align: right;\">\n      <th></th>\n      <th>ID</th>\n      <th>Price</th>\n      <th>Quantity</th>\n      <th>QuoteQuantity</th>\n      <th>Time</th>\n      <th>Buyer maker</th>\n      <th>Best match</th>\n      <th>Datetime</th>\n    </tr>\n  </thead>\n  <tbody>\n    <tr>\n      <th>0</th>\n      <td>92864632</td>\n      <td>0.00228670</td>\n      <td>0.52000000</td>\n      <td>0.00118908</td>\n      <td>1603944422956</td>\n      <td>False</td>\n      <td>True</td>\n      <td>2020-10-29 04:07:02.956</td>\n    </tr>\n    <tr>\n      <th>1</th>\n      <td>92864633</td>\n      <td>0.00228680</td>\n      <td>4.93000000</td>\n      <td>0.01127392</td>\n      <td>1603944430670</td>\n      <td>False</td>\n      <td>True</td>\n      <td>2020-10-29 04:07:10.670</td>\n    </tr>\n    <tr>\n      <th>2</th>\n      <td>92864634</td>\n      <td>0.00228670</td>\n      <td>0.40000000</td>\n      <td>0.00091468</td>\n      <td>1603944432378</td>\n      <td>False</td>\n      <td>True</td>\n      <td>2020-10-29 04:07:12.378</td>\n    </tr>\n    <tr>\n      <th>3</th>\n      <td>92864635</td>\n      <td>0.00228660</td>\n      <td>27.39000000</td>\n      <td>0.06262997</td>\n      <td>1603944434878</td>\n      <td>False</td>\n      <td>True</td>\n      <td>2020-10-29 04:07:14.878</td>\n    </tr>\n    <tr>\n      <th>4</th>\n      <td>92864636</td>\n      <td>0.00228650</td>\n      <td>33.49000000</td>\n      <td>0.07657488</td>\n      <td>1603944449636</td>\n      <td>True</td>\n      <td>True</td>\n      <td>2020-10-29 04:07:29.636</td>\n    </tr>\n  </tbody>\n</table>\n</div>"
     },
     "metadata": {},
     "execution_count": 43
    }
   ],
   "source": [
    "df2.rename(columns = { \"id\": \"ID\", \"price\": \"Price\", \"qty\": \"Quantity\", \"quoteQty\": \"QuoteQuantity\", \"time\": \"Time\", \"isBuyerMaker\": \"Buyer maker\", \"isBestMatch\": \"Best match\"})"
   ]
  },
  {
   "cell_type": "code",
   "execution_count": 44,
   "metadata": {},
   "outputs": [],
   "source": [
    "df.to_csv('./transactions.csv', index=False)"
   ]
  },
  {
   "cell_type": "code",
   "execution_count": 52,
   "metadata": {},
   "outputs": [
    {
     "output_type": "execute_result",
     "data": {
      "text/plain": [
       "{'lastUpdateId': 960551028,\n",
       " 'bids': [['0.00228600', '316.37000000'],\n",
       "  ['0.00228560', '18.73000000'],\n",
       "  ['0.00228540', '2.44000000'],\n",
       "  ['0.00228510', '43.74000000'],\n",
       "  ['0.00228470', '73.62000000'],\n",
       "  ['0.00228460', '98.67000000'],\n",
       "  ['0.00228450', '130.00000000'],\n",
       "  ['0.00228430', '125.90000000'],\n",
       "  ['0.00228420', '100.00000000'],\n",
       "  ['0.00228410', '87.51000000']],\n",
       " 'asks': [['0.00228610', '61.78000000'],\n",
       "  ['0.00228620', '4.46000000'],\n",
       "  ['0.00228630', '2.18000000'],\n",
       "  ['0.00228650', '110.16000000'],\n",
       "  ['0.00228670', '20.79000000'],\n",
       "  ['0.00228680', '2.88000000'],\n",
       "  ['0.00228690', '3.28000000'],\n",
       "  ['0.00228700', '2.49000000'],\n",
       "  ['0.00228730', '43.75000000'],\n",
       "  ['0.00228740', '212.95000000']]}"
      ]
     },
     "metadata": {},
     "execution_count": 52
    }
   ],
   "source": [
    "depth = client.get_order_book(symbol=\"BNBBTC\", limit=10)\n",
    "depth"
   ]
  },
  {
   "cell_type": "code",
   "execution_count": 54,
   "metadata": {},
   "outputs": [
    {
     "output_type": "execute_result",
     "data": {
      "text/plain": [
       "        Price      Quantity\n",
       "0  0.00228600  316.37000000\n",
       "1  0.00228560   18.73000000\n",
       "2  0.00228540    2.44000000\n",
       "3  0.00228510   43.74000000\n",
       "4  0.00228470   73.62000000\n",
       "5  0.00228460   98.67000000\n",
       "6  0.00228450  130.00000000\n",
       "7  0.00228430  125.90000000\n",
       "8  0.00228420  100.00000000\n",
       "9  0.00228410   87.51000000"
      ],
      "text/html": "<div>\n<style scoped>\n    .dataframe tbody tr th:only-of-type {\n        vertical-align: middle;\n    }\n\n    .dataframe tbody tr th {\n        vertical-align: top;\n    }\n\n    .dataframe thead th {\n        text-align: right;\n    }\n</style>\n<table border=\"1\" class=\"dataframe\">\n  <thead>\n    <tr style=\"text-align: right;\">\n      <th></th>\n      <th>Price</th>\n      <th>Quantity</th>\n    </tr>\n  </thead>\n  <tbody>\n    <tr>\n      <th>0</th>\n      <td>0.00228600</td>\n      <td>316.37000000</td>\n    </tr>\n    <tr>\n      <th>1</th>\n      <td>0.00228560</td>\n      <td>18.73000000</td>\n    </tr>\n    <tr>\n      <th>2</th>\n      <td>0.00228540</td>\n      <td>2.44000000</td>\n    </tr>\n    <tr>\n      <th>3</th>\n      <td>0.00228510</td>\n      <td>43.74000000</td>\n    </tr>\n    <tr>\n      <th>4</th>\n      <td>0.00228470</td>\n      <td>73.62000000</td>\n    </tr>\n    <tr>\n      <th>5</th>\n      <td>0.00228460</td>\n      <td>98.67000000</td>\n    </tr>\n    <tr>\n      <th>6</th>\n      <td>0.00228450</td>\n      <td>130.00000000</td>\n    </tr>\n    <tr>\n      <th>7</th>\n      <td>0.00228430</td>\n      <td>125.90000000</td>\n    </tr>\n    <tr>\n      <th>8</th>\n      <td>0.00228420</td>\n      <td>100.00000000</td>\n    </tr>\n    <tr>\n      <th>9</th>\n      <td>0.00228410</td>\n      <td>87.51000000</td>\n    </tr>\n  </tbody>\n</table>\n</div>"
     },
     "metadata": {},
     "execution_count": 54
    }
   ],
   "source": [
    "bids = pd.DataFrame(depth['bids'], columns=[\"Price\", \"Quantity\"])\n",
    "bids"
   ]
  },
  {
   "cell_type": "code",
   "execution_count": 64,
   "metadata": {},
   "outputs": [
    {
     "output_type": "execute_result",
     "data": {
      "text/plain": [
       "        Price      Quantity Type\n",
       "0  0.00228600  316.37000000  Bid\n",
       "1  0.00228560   18.73000000  Bid\n",
       "2  0.00228540    2.44000000  Bid\n",
       "3  0.00228510   43.74000000  Bid\n",
       "4  0.00228470   73.62000000  Bid\n",
       "5  0.00228460   98.67000000  Bid\n",
       "6  0.00228450  130.00000000  Bid\n",
       "7  0.00228430  125.90000000  Bid\n",
       "8  0.00228420  100.00000000  Bid\n",
       "9  0.00228410   87.51000000  Bid"
      ],
      "text/html": "<div>\n<style scoped>\n    .dataframe tbody tr th:only-of-type {\n        vertical-align: middle;\n    }\n\n    .dataframe tbody tr th {\n        vertical-align: top;\n    }\n\n    .dataframe thead th {\n        text-align: right;\n    }\n</style>\n<table border=\"1\" class=\"dataframe\">\n  <thead>\n    <tr style=\"text-align: right;\">\n      <th></th>\n      <th>Price</th>\n      <th>Quantity</th>\n      <th>Type</th>\n    </tr>\n  </thead>\n  <tbody>\n    <tr>\n      <th>0</th>\n      <td>0.00228600</td>\n      <td>316.37000000</td>\n      <td>Bid</td>\n    </tr>\n    <tr>\n      <th>1</th>\n      <td>0.00228560</td>\n      <td>18.73000000</td>\n      <td>Bid</td>\n    </tr>\n    <tr>\n      <th>2</th>\n      <td>0.00228540</td>\n      <td>2.44000000</td>\n      <td>Bid</td>\n    </tr>\n    <tr>\n      <th>3</th>\n      <td>0.00228510</td>\n      <td>43.74000000</td>\n      <td>Bid</td>\n    </tr>\n    <tr>\n      <th>4</th>\n      <td>0.00228470</td>\n      <td>73.62000000</td>\n      <td>Bid</td>\n    </tr>\n    <tr>\n      <th>5</th>\n      <td>0.00228460</td>\n      <td>98.67000000</td>\n      <td>Bid</td>\n    </tr>\n    <tr>\n      <th>6</th>\n      <td>0.00228450</td>\n      <td>130.00000000</td>\n      <td>Bid</td>\n    </tr>\n    <tr>\n      <th>7</th>\n      <td>0.00228430</td>\n      <td>125.90000000</td>\n      <td>Bid</td>\n    </tr>\n    <tr>\n      <th>8</th>\n      <td>0.00228420</td>\n      <td>100.00000000</td>\n      <td>Bid</td>\n    </tr>\n    <tr>\n      <th>9</th>\n      <td>0.00228410</td>\n      <td>87.51000000</td>\n      <td>Bid</td>\n    </tr>\n  </tbody>\n</table>\n</div>"
     },
     "metadata": {},
     "execution_count": 64
    }
   ],
   "source": [
    "bids['Type'] = \"Bid\"\n",
    "bids"
   ]
  },
  {
   "cell_type": "code",
   "execution_count": 66,
   "metadata": {},
   "outputs": [
    {
     "output_type": "execute_result",
     "data": {
      "text/plain": [
       "        Price      Quantity Type\n",
       "0  0.00228610   61.78000000  Ask\n",
       "1  0.00228620    4.46000000  Ask\n",
       "2  0.00228630    2.18000000  Ask\n",
       "3  0.00228650  110.16000000  Ask\n",
       "4  0.00228670   20.79000000  Ask\n",
       "5  0.00228680    2.88000000  Ask\n",
       "6  0.00228690    3.28000000  Ask\n",
       "7  0.00228700    2.49000000  Ask\n",
       "8  0.00228730   43.75000000  Ask\n",
       "9  0.00228740  212.95000000  Ask"
      ],
      "text/html": "<div>\n<style scoped>\n    .dataframe tbody tr th:only-of-type {\n        vertical-align: middle;\n    }\n\n    .dataframe tbody tr th {\n        vertical-align: top;\n    }\n\n    .dataframe thead th {\n        text-align: right;\n    }\n</style>\n<table border=\"1\" class=\"dataframe\">\n  <thead>\n    <tr style=\"text-align: right;\">\n      <th></th>\n      <th>Price</th>\n      <th>Quantity</th>\n      <th>Type</th>\n    </tr>\n  </thead>\n  <tbody>\n    <tr>\n      <th>0</th>\n      <td>0.00228610</td>\n      <td>61.78000000</td>\n      <td>Ask</td>\n    </tr>\n    <tr>\n      <th>1</th>\n      <td>0.00228620</td>\n      <td>4.46000000</td>\n      <td>Ask</td>\n    </tr>\n    <tr>\n      <th>2</th>\n      <td>0.00228630</td>\n      <td>2.18000000</td>\n      <td>Ask</td>\n    </tr>\n    <tr>\n      <th>3</th>\n      <td>0.00228650</td>\n      <td>110.16000000</td>\n      <td>Ask</td>\n    </tr>\n    <tr>\n      <th>4</th>\n      <td>0.00228670</td>\n      <td>20.79000000</td>\n      <td>Ask</td>\n    </tr>\n    <tr>\n      <th>5</th>\n      <td>0.00228680</td>\n      <td>2.88000000</td>\n      <td>Ask</td>\n    </tr>\n    <tr>\n      <th>6</th>\n      <td>0.00228690</td>\n      <td>3.28000000</td>\n      <td>Ask</td>\n    </tr>\n    <tr>\n      <th>7</th>\n      <td>0.00228700</td>\n      <td>2.49000000</td>\n      <td>Ask</td>\n    </tr>\n    <tr>\n      <th>8</th>\n      <td>0.00228730</td>\n      <td>43.75000000</td>\n      <td>Ask</td>\n    </tr>\n    <tr>\n      <th>9</th>\n      <td>0.00228740</td>\n      <td>212.95000000</td>\n      <td>Ask</td>\n    </tr>\n  </tbody>\n</table>\n</div>"
     },
     "metadata": {},
     "execution_count": 66
    }
   ],
   "source": [
    "asks = pd.DataFrame(depth['asks'], columns=[\"Price\", \"Quantity\"])\n",
    "asks['Type'] = \"Ask\"\n",
    "asks"
   ]
  },
  {
   "cell_type": "code",
   "execution_count": 68,
   "metadata": {},
   "outputs": [
    {
     "output_type": "execute_result",
     "data": {
      "text/plain": [
       "        Price      Quantity Type\n",
       "0  0.00228600  316.37000000  Bid\n",
       "1  0.00228560   18.73000000  Bid\n",
       "2  0.00228540    2.44000000  Bid\n",
       "3  0.00228510   43.74000000  Bid\n",
       "4  0.00228470   73.62000000  Bid\n",
       "5  0.00228460   98.67000000  Bid\n",
       "6  0.00228450  130.00000000  Bid\n",
       "7  0.00228430  125.90000000  Bid\n",
       "8  0.00228420  100.00000000  Bid\n",
       "9  0.00228410   87.51000000  Bid\n",
       "0  0.00228610   61.78000000  Ask\n",
       "1  0.00228620    4.46000000  Ask\n",
       "2  0.00228630    2.18000000  Ask\n",
       "3  0.00228650  110.16000000  Ask\n",
       "4  0.00228670   20.79000000  Ask\n",
       "5  0.00228680    2.88000000  Ask\n",
       "6  0.00228690    3.28000000  Ask\n",
       "7  0.00228700    2.49000000  Ask\n",
       "8  0.00228730   43.75000000  Ask\n",
       "9  0.00228740  212.95000000  Ask"
      ],
      "text/html": "<div>\n<style scoped>\n    .dataframe tbody tr th:only-of-type {\n        vertical-align: middle;\n    }\n\n    .dataframe tbody tr th {\n        vertical-align: top;\n    }\n\n    .dataframe thead th {\n        text-align: right;\n    }\n</style>\n<table border=\"1\" class=\"dataframe\">\n  <thead>\n    <tr style=\"text-align: right;\">\n      <th></th>\n      <th>Price</th>\n      <th>Quantity</th>\n      <th>Type</th>\n    </tr>\n  </thead>\n  <tbody>\n    <tr>\n      <th>0</th>\n      <td>0.00228600</td>\n      <td>316.37000000</td>\n      <td>Bid</td>\n    </tr>\n    <tr>\n      <th>1</th>\n      <td>0.00228560</td>\n      <td>18.73000000</td>\n      <td>Bid</td>\n    </tr>\n    <tr>\n      <th>2</th>\n      <td>0.00228540</td>\n      <td>2.44000000</td>\n      <td>Bid</td>\n    </tr>\n    <tr>\n      <th>3</th>\n      <td>0.00228510</td>\n      <td>43.74000000</td>\n      <td>Bid</td>\n    </tr>\n    <tr>\n      <th>4</th>\n      <td>0.00228470</td>\n      <td>73.62000000</td>\n      <td>Bid</td>\n    </tr>\n    <tr>\n      <th>5</th>\n      <td>0.00228460</td>\n      <td>98.67000000</td>\n      <td>Bid</td>\n    </tr>\n    <tr>\n      <th>6</th>\n      <td>0.00228450</td>\n      <td>130.00000000</td>\n      <td>Bid</td>\n    </tr>\n    <tr>\n      <th>7</th>\n      <td>0.00228430</td>\n      <td>125.90000000</td>\n      <td>Bid</td>\n    </tr>\n    <tr>\n      <th>8</th>\n      <td>0.00228420</td>\n      <td>100.00000000</td>\n      <td>Bid</td>\n    </tr>\n    <tr>\n      <th>9</th>\n      <td>0.00228410</td>\n      <td>87.51000000</td>\n      <td>Bid</td>\n    </tr>\n    <tr>\n      <th>0</th>\n      <td>0.00228610</td>\n      <td>61.78000000</td>\n      <td>Ask</td>\n    </tr>\n    <tr>\n      <th>1</th>\n      <td>0.00228620</td>\n      <td>4.46000000</td>\n      <td>Ask</td>\n    </tr>\n    <tr>\n      <th>2</th>\n      <td>0.00228630</td>\n      <td>2.18000000</td>\n      <td>Ask</td>\n    </tr>\n    <tr>\n      <th>3</th>\n      <td>0.00228650</td>\n      <td>110.16000000</td>\n      <td>Ask</td>\n    </tr>\n    <tr>\n      <th>4</th>\n      <td>0.00228670</td>\n      <td>20.79000000</td>\n      <td>Ask</td>\n    </tr>\n    <tr>\n      <th>5</th>\n      <td>0.00228680</td>\n      <td>2.88000000</td>\n      <td>Ask</td>\n    </tr>\n    <tr>\n      <th>6</th>\n      <td>0.00228690</td>\n      <td>3.28000000</td>\n      <td>Ask</td>\n    </tr>\n    <tr>\n      <th>7</th>\n      <td>0.00228700</td>\n      <td>2.49000000</td>\n      <td>Ask</td>\n    </tr>\n    <tr>\n      <th>8</th>\n      <td>0.00228730</td>\n      <td>43.75000000</td>\n      <td>Ask</td>\n    </tr>\n    <tr>\n      <th>9</th>\n      <td>0.00228740</td>\n      <td>212.95000000</td>\n      <td>Ask</td>\n    </tr>\n  </tbody>\n</table>\n</div>"
     },
     "metadata": {},
     "execution_count": 68
    }
   ],
   "source": [
    "df3 = pd.concat([bids,asks])\n",
    "df3"
   ]
  },
  {
   "cell_type": "code",
   "execution_count": 69,
   "metadata": {},
   "outputs": [],
   "source": [
    "df.to_csv('./marketdepth.csv', index=False)"
   ]
  },
  {
   "cell_type": "code",
   "execution_count": null,
   "metadata": {},
   "outputs": [],
   "source": []
  }
 ]
}