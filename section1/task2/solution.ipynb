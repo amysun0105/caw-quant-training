{
 "metadata": {
  "language_info": {
   "codemirror_mode": {
    "name": "ipython",
    "version": 3
   },
   "file_extension": ".py",
   "mimetype": "text/x-python",
   "name": "python",
   "nbconvert_exporter": "python",
   "pygments_lexer": "ipython3",
   "version": "3.7.6-final"
  },
  "orig_nbformat": 2,
  "kernelspec": {
   "name": "Python 3.7.6 64-bit ('base': conda)",
   "display_name": "Python 3.7.6 64-bit ('base': conda)",
   "metadata": {
    "interpreter": {
     "hash": "55b15b2bbd541d5a160ee2b1dc2f34a8e89cf2bd8aebcd3b31f6519a45444825"
    }
   }
  }
 },
 "nbformat": 4,
 "nbformat_minor": 2,
 "cells": [
  {
   "cell_type": "code",
   "execution_count": 1,
   "metadata": {},
   "outputs": [],
   "source": [
    "import pandas as pd\n",
    "from binance.client import Client"
   ]
  },
  {
   "cell_type": "code",
   "execution_count": 15,
   "metadata": {},
   "outputs": [],
   "source": [
    "class Binance:\n",
    "    def __init__(self, symbol):\n",
    "        self.client = Client()\n",
    "        self.symbol = symbol\n",
    "\n",
    "    def get_candle(self, start_time, end_time=None):\n",
    "        candle = self.client.get_historical_klines(self.symbol, Client.KLINE_INTERVAL_30MINUTE, start_time, end_str=end_time)\n",
    "        df = pd.DataFrame(candle, columns = [\"Open timestamp\", \"Open\", \"High\", \"Low\", \"Close\", \"Volume\", \"Close timestamp\", \"Quote asset volume\", \"Number of    trades\", \"Taker buy base asset volume\", \"Taker buy quote asset volume\", \"Can be ignored\"])\n",
    "        df['Open time'] = pd.to_datetime(df['Open timestamp'],unit='ms')\n",
    "        df['Close time'] = pd.to_datetime(df['Close timestamp'],unit='ms')\n",
    "        df = df[['Open time', 'Open','High','Low','Close','Volume','Close time']]\n",
    "        df.to_csv('./candle_data.csv', index=False)\n",
    "\n",
    "\n",
    "    def get_recent_transactions(self, limit=50):\n",
    "        transactions = self.client.get_recent_trades(symbol=self.symbol, limit=limit)\n",
    "        df = pd.DataFrame(transactions)\n",
    "        df['Datetime'] = pd.to_datetime(df['time'],unit='ms')\n",
    "        df.rename(columns = { \"id\": \"ID\", \"price\": \"Price\", \"qty\": \"Quantity\", \"quoteQty\": \"QuoteQuantity\", \"time\": \"Time\", \"isBuyerMaker\": \"Buyer maker\", \"isBestMatch\": \"Best match\"}, inplace=True)\n",
    "        df.to_csv('./recent_transactions.csv', index=False)\n",
    "\n",
    "    def get_market_depth(self, limit=50):\n",
    "        depth = self.client.get_order_book(symbol=self.symbol, limit=limit)\n",
    "        bids = pd.DataFrame(depth['bids'], columns=[\"Price\", \"Quantity\"])\n",
    "        bids['Type'] = \"Bid\"\n",
    "        asks = pd.DataFrame(depth['asks'], columns=[\"Price\", \"Quantity\"])\n",
    "        asks['Type'] = \"Ask\"\n",
    "        df = pd.concat([bids,asks])\n",
    "        df.to_csv('./market_depth.csv', index=False)"
   ]
  },
  {
   "cell_type": "code",
   "execution_count": 16,
   "metadata": {},
   "outputs": [],
   "source": [
    "binance = Binance(\"BNBBTC\")\n",
    "binance.get_candle(start_time=\"2020-10-29T01:16:04.568Z\")\n",
    "binance.get_recent_transactions(limit=100)\n",
    "binance.get_market_depth(limit=100)"
   ]
  },
  {
   "cell_type": "code",
   "execution_count": null,
   "metadata": {},
   "outputs": [],
   "source": []
  }
 ]
}