{
 "metadata": {
  "language_info": {
   "codemirror_mode": {
    "name": "ipython",
    "version": 3
   },
   "file_extension": ".py",
   "mimetype": "text/x-python",
   "name": "python",
   "nbconvert_exporter": "python",
   "pygments_lexer": "ipython3",
   "version": "3.7.6-final"
  },
  "orig_nbformat": 2,
  "kernelspec": {
   "name": "Python 3.7.6 64-bit ('base': conda)",
   "display_name": "Python 3.7.6 64-bit ('base': conda)",
   "metadata": {
    "interpreter": {
     "hash": "55b15b2bbd541d5a160ee2b1dc2f34a8e89cf2bd8aebcd3b31f6519a45444825"
    }
   }
  }
 },
 "nbformat": 4,
 "nbformat_minor": 2,
 "cells": [
  {
   "cell_type": "code",
   "execution_count": 1,
   "metadata": {},
   "outputs": [],
   "source": [
    "import datetime\n",
    "import requests\n",
    "import pandas as pd\n",
    "\n",
    "HISTOHOUR = 'https://min-api.cryptocompare.com/data/v2/histohour'\n",
    "\n",
    "def get_histohour(fsym, tsym, start_time='2017-04-01', end_time='2020-04-01', e='binance'):\n",
    "    start_timestamp = datetime.datetime.strptime(start_time, '%Y-%m-%d').replace(tzinfo=datetime.timezone.utc).timestamp()\n",
    "    end_timestamp = datetime.datetime.strptime(end_time, '%Y-%m-%d').replace(tzinfo=datetime.timezone.utc).timestamp()\n",
    "    last_timestamp = end_timestamp + 1\n",
    "    data = []\n",
    "\n",
    "    while (last_timestamp > start_timestamp):\n",
    "        params = {\n",
    "            'fsym': fsym,\n",
    "            'tsym': tsym,\n",
    "            'e': e,\n",
    "            'toTs': last_timestamp - 1,\n",
    "            'limit': 2000\n",
    "        }\n",
    "        response = requests.get(HISTOHOUR, params=params).json()\n",
    "        last_timestamp = response['Data']['TimeFrom']\n",
    "        data = response['Data']['Data'] + data\n",
    "\n",
    "    df = pd.DataFrame(data)\n",
    "    df = df[df.time >= start_timestamp]\n",
    "    df['datetime'] = pd.to_datetime(df['time'],unit='s')\n",
    "    df.drop(columns=['time', 'conversionType', 'conversionSymbol'], inplace=True)\n",
    "    df.rename(columns={'volumefrom': 'volume', 'volumeto': 'baseVolume'}, inplace=True)\n",
    "    df.to_csv('./output.csv', index=False)"
   ]
  },
  {
   "cell_type": "code",
   "execution_count": 2,
   "metadata": {},
   "outputs": [],
   "source": [
    "get_histohour('BTC', 'USDT')"
   ]
  }
 ]
}