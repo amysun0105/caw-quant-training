{
 "metadata": {
  "language_info": {
   "codemirror_mode": {
    "name": "ipython",
    "version": 3
   },
   "file_extension": ".py",
   "mimetype": "text/x-python",
   "name": "python",
   "nbconvert_exporter": "python",
   "pygments_lexer": "ipython3",
   "version": "3.7.6-final"
  },
  "orig_nbformat": 2,
  "kernelspec": {
   "name": "Python 3.7.6 64-bit ('base': conda)",
   "display_name": "Python 3.7.6 64-bit ('base': conda)",
   "metadata": {
    "interpreter": {
     "hash": "55b15b2bbd541d5a160ee2b1dc2f34a8e89cf2bd8aebcd3b31f6519a45444825"
    }
   }
  }
 },
 "nbformat": 4,
 "nbformat_minor": 2,
 "cells": [
  {
   "cell_type": "code",
   "execution_count": 1,
   "metadata": {},
   "outputs": [],
   "source": [
    "import datetime\n",
    "start_time=\"2017-04-01\"\n",
    "end_time=\"2020-04-01\"\n",
    "start_timestamp = datetime.datetime.strptime(start_time, '%Y-%m-%d').replace(tzinfo=datetime.timezone.utc).timestamp()\n",
    "end_timestamp = datetime.datetime.strptime(end_time, '%Y-%m-%d').replace(tzinfo=datetime.timezone.utc).timestamp()"
   ]
  },
  {
   "cell_type": "code",
   "execution_count": 2,
   "metadata": {
    "tags": []
   },
   "outputs": [],
   "source": [
    "import requests\n",
    "url = 'https://min-api.cryptocompare.com/data/v2/histohour'\n",
    "params = {\n",
    "    'fsym': 'BTC',\n",
    "    'tsym': 'USDT',\n",
    "    'e': 'binance',\n",
    "    'toTs': end_timestamp,\n",
    "    'limit': 2000\n",
    "}\n",
    "response = requests.get(url, params=params).json()\n",
    "last_timestamp = response['Data']['TimeFrom']\n",
    "data = response['Data']['Data']"
   ]
  },
  {
   "cell_type": "code",
   "execution_count": 3,
   "metadata": {},
   "outputs": [
    {
     "output_type": "execute_result",
     "data": {
      "text/plain": [
       "            time    close     high      low     open  volumefrom     volumeto  \\\n",
       "1996  1585684800  6467.50  6494.90  6447.75  6463.47     2503.51  16207519.69   \n",
       "1997  1585688400  6442.61  6485.00  6420.00  6467.50     2112.04  13622726.48   \n",
       "1998  1585692000  6431.55  6448.00  6420.64  6442.61     1197.65   7707041.79   \n",
       "1999  1585695600  6410.44  6440.99  6386.89  6431.55     2279.88  14626241.96   \n",
       "2000  1585699200  6305.12  6426.52  6239.34  6410.44     9061.28  57230360.58   \n",
       "\n",
       "     conversionType conversionSymbol            datetime  \n",
       "1996   force_direct                  2020-03-31 20:00:00  \n",
       "1997   force_direct                  2020-03-31 21:00:00  \n",
       "1998   force_direct                  2020-03-31 22:00:00  \n",
       "1999   force_direct                  2020-03-31 23:00:00  \n",
       "2000   force_direct                  2020-04-01 00:00:00  "
      ],
      "text/html": "<div>\n<style scoped>\n    .dataframe tbody tr th:only-of-type {\n        vertical-align: middle;\n    }\n\n    .dataframe tbody tr th {\n        vertical-align: top;\n    }\n\n    .dataframe thead th {\n        text-align: right;\n    }\n</style>\n<table border=\"1\" class=\"dataframe\">\n  <thead>\n    <tr style=\"text-align: right;\">\n      <th></th>\n      <th>time</th>\n      <th>close</th>\n      <th>high</th>\n      <th>low</th>\n      <th>open</th>\n      <th>volumefrom</th>\n      <th>volumeto</th>\n      <th>conversionType</th>\n      <th>conversionSymbol</th>\n      <th>datetime</th>\n    </tr>\n  </thead>\n  <tbody>\n    <tr>\n      <th>1996</th>\n      <td>1585684800</td>\n      <td>6467.50</td>\n      <td>6494.90</td>\n      <td>6447.75</td>\n      <td>6463.47</td>\n      <td>2503.51</td>\n      <td>16207519.69</td>\n      <td>force_direct</td>\n      <td></td>\n      <td>2020-03-31 20:00:00</td>\n    </tr>\n    <tr>\n      <th>1997</th>\n      <td>1585688400</td>\n      <td>6442.61</td>\n      <td>6485.00</td>\n      <td>6420.00</td>\n      <td>6467.50</td>\n      <td>2112.04</td>\n      <td>13622726.48</td>\n      <td>force_direct</td>\n      <td></td>\n      <td>2020-03-31 21:00:00</td>\n    </tr>\n    <tr>\n      <th>1998</th>\n      <td>1585692000</td>\n      <td>6431.55</td>\n      <td>6448.00</td>\n      <td>6420.64</td>\n      <td>6442.61</td>\n      <td>1197.65</td>\n      <td>7707041.79</td>\n      <td>force_direct</td>\n      <td></td>\n      <td>2020-03-31 22:00:00</td>\n    </tr>\n    <tr>\n      <th>1999</th>\n      <td>1585695600</td>\n      <td>6410.44</td>\n      <td>6440.99</td>\n      <td>6386.89</td>\n      <td>6431.55</td>\n      <td>2279.88</td>\n      <td>14626241.96</td>\n      <td>force_direct</td>\n      <td></td>\n      <td>2020-03-31 23:00:00</td>\n    </tr>\n    <tr>\n      <th>2000</th>\n      <td>1585699200</td>\n      <td>6305.12</td>\n      <td>6426.52</td>\n      <td>6239.34</td>\n      <td>6410.44</td>\n      <td>9061.28</td>\n      <td>57230360.58</td>\n      <td>force_direct</td>\n      <td></td>\n      <td>2020-04-01 00:00:00</td>\n    </tr>\n  </tbody>\n</table>\n</div>"
     },
     "metadata": {},
     "execution_count": 3
    }
   ],
   "source": [
    "import pandas as pd\n",
    "df = pd.DataFrame(data)\n",
    "df['datetime'] = pd.to_datetime(df['time'],unit='s')\n",
    "df.tail()"
   ]
  },
  {
   "cell_type": "code",
   "execution_count": 4,
   "metadata": {},
   "outputs": [],
   "source": [
    "while (last_timestamp > start_timestamp):\n",
    "    params = {\n",
    "        'fsym': 'BTC',\n",
    "        'tsym': 'USDT',\n",
    "        'e': 'binance',\n",
    "        'toTs': last_timestamp - 1,\n",
    "        'limit': 2000\n",
    "    }\n",
    "    response = requests.get(url, params=params).json()\n",
    "    last_timestamp = response['Data']['TimeFrom']\n",
    "    data = response['Data']['Data'] + data"
   ]
  },
  {
   "cell_type": "code",
   "execution_count": 5,
   "metadata": {},
   "outputs": [
    {
     "output_type": "execute_result",
     "data": {
      "text/plain": [
       "         close     high      low     open   volume   baseVolume  \\\n",
       "28009  6467.50  6494.90  6447.75  6463.47  2503.51  16207519.69   \n",
       "28010  6442.61  6485.00  6420.00  6467.50  2112.04  13622726.48   \n",
       "28011  6431.55  6448.00  6420.64  6442.61  1197.65   7707041.79   \n",
       "28012  6410.44  6440.99  6386.89  6431.55  2279.88  14626241.96   \n",
       "28013  6305.12  6426.52  6239.34  6410.44  9061.28  57230360.58   \n",
       "\n",
       "                 datetime  \n",
       "28009 2020-03-31 20:00:00  \n",
       "28010 2020-03-31 21:00:00  \n",
       "28011 2020-03-31 22:00:00  \n",
       "28012 2020-03-31 23:00:00  \n",
       "28013 2020-04-01 00:00:00  "
      ],
      "text/html": "<div>\n<style scoped>\n    .dataframe tbody tr th:only-of-type {\n        vertical-align: middle;\n    }\n\n    .dataframe tbody tr th {\n        vertical-align: top;\n    }\n\n    .dataframe thead th {\n        text-align: right;\n    }\n</style>\n<table border=\"1\" class=\"dataframe\">\n  <thead>\n    <tr style=\"text-align: right;\">\n      <th></th>\n      <th>close</th>\n      <th>high</th>\n      <th>low</th>\n      <th>open</th>\n      <th>volume</th>\n      <th>baseVolume</th>\n      <th>datetime</th>\n    </tr>\n  </thead>\n  <tbody>\n    <tr>\n      <th>28009</th>\n      <td>6467.50</td>\n      <td>6494.90</td>\n      <td>6447.75</td>\n      <td>6463.47</td>\n      <td>2503.51</td>\n      <td>16207519.69</td>\n      <td>2020-03-31 20:00:00</td>\n    </tr>\n    <tr>\n      <th>28010</th>\n      <td>6442.61</td>\n      <td>6485.00</td>\n      <td>6420.00</td>\n      <td>6467.50</td>\n      <td>2112.04</td>\n      <td>13622726.48</td>\n      <td>2020-03-31 21:00:00</td>\n    </tr>\n    <tr>\n      <th>28011</th>\n      <td>6431.55</td>\n      <td>6448.00</td>\n      <td>6420.64</td>\n      <td>6442.61</td>\n      <td>1197.65</td>\n      <td>7707041.79</td>\n      <td>2020-03-31 22:00:00</td>\n    </tr>\n    <tr>\n      <th>28012</th>\n      <td>6410.44</td>\n      <td>6440.99</td>\n      <td>6386.89</td>\n      <td>6431.55</td>\n      <td>2279.88</td>\n      <td>14626241.96</td>\n      <td>2020-03-31 23:00:00</td>\n    </tr>\n    <tr>\n      <th>28013</th>\n      <td>6305.12</td>\n      <td>6426.52</td>\n      <td>6239.34</td>\n      <td>6410.44</td>\n      <td>9061.28</td>\n      <td>57230360.58</td>\n      <td>2020-04-01 00:00:00</td>\n    </tr>\n  </tbody>\n</table>\n</div>"
     },
     "metadata": {},
     "execution_count": 5
    }
   ],
   "source": [
    "df = pd.DataFrame(data)\n",
    "df = df[df.time >= start_timestamp]\n",
    "df['datetime'] = pd.to_datetime(df['time'],unit='s')\n",
    "df.drop(columns=['time', 'conversionType', 'conversionSymbol'], inplace=True)\n",
    "df.rename(columns={'volumefrom': 'volume', 'volumeto': 'baseVolume'}, inplace=True)\n",
    "df.tail()"
   ]
  },
  {
   "cell_type": "code",
   "execution_count": 6,
   "metadata": {},
   "outputs": [
    {
     "output_type": "execute_result",
     "data": {
      "text/plain": [
       "      close  high  low  open  volume  baseVolume            datetime\n",
       "1709    0.0   0.0  0.0   0.0     0.0         0.0 2017-04-01 00:00:00\n",
       "1710    0.0   0.0  0.0   0.0     0.0         0.0 2017-04-01 01:00:00\n",
       "1711    0.0   0.0  0.0   0.0     0.0         0.0 2017-04-01 02:00:00\n",
       "1712    0.0   0.0  0.0   0.0     0.0         0.0 2017-04-01 03:00:00\n",
       "1713    0.0   0.0  0.0   0.0     0.0         0.0 2017-04-01 04:00:00"
      ],
      "text/html": "<div>\n<style scoped>\n    .dataframe tbody tr th:only-of-type {\n        vertical-align: middle;\n    }\n\n    .dataframe tbody tr th {\n        vertical-align: top;\n    }\n\n    .dataframe thead th {\n        text-align: right;\n    }\n</style>\n<table border=\"1\" class=\"dataframe\">\n  <thead>\n    <tr style=\"text-align: right;\">\n      <th></th>\n      <th>close</th>\n      <th>high</th>\n      <th>low</th>\n      <th>open</th>\n      <th>volume</th>\n      <th>baseVolume</th>\n      <th>datetime</th>\n    </tr>\n  </thead>\n  <tbody>\n    <tr>\n      <th>1709</th>\n      <td>0.0</td>\n      <td>0.0</td>\n      <td>0.0</td>\n      <td>0.0</td>\n      <td>0.0</td>\n      <td>0.0</td>\n      <td>2017-04-01 00:00:00</td>\n    </tr>\n    <tr>\n      <th>1710</th>\n      <td>0.0</td>\n      <td>0.0</td>\n      <td>0.0</td>\n      <td>0.0</td>\n      <td>0.0</td>\n      <td>0.0</td>\n      <td>2017-04-01 01:00:00</td>\n    </tr>\n    <tr>\n      <th>1711</th>\n      <td>0.0</td>\n      <td>0.0</td>\n      <td>0.0</td>\n      <td>0.0</td>\n      <td>0.0</td>\n      <td>0.0</td>\n      <td>2017-04-01 02:00:00</td>\n    </tr>\n    <tr>\n      <th>1712</th>\n      <td>0.0</td>\n      <td>0.0</td>\n      <td>0.0</td>\n      <td>0.0</td>\n      <td>0.0</td>\n      <td>0.0</td>\n      <td>2017-04-01 03:00:00</td>\n    </tr>\n    <tr>\n      <th>1713</th>\n      <td>0.0</td>\n      <td>0.0</td>\n      <td>0.0</td>\n      <td>0.0</td>\n      <td>0.0</td>\n      <td>0.0</td>\n      <td>2017-04-01 04:00:00</td>\n    </tr>\n  </tbody>\n</table>\n</div>"
     },
     "metadata": {},
     "execution_count": 6
    }
   ],
   "source": [
    "df.head()"
   ]
  },
  {
   "cell_type": "code",
   "execution_count": 7,
   "metadata": {},
   "outputs": [],
   "source": [
    "df.to_csv('./output.csv', index=False)"
   ]
  }
 ]
}